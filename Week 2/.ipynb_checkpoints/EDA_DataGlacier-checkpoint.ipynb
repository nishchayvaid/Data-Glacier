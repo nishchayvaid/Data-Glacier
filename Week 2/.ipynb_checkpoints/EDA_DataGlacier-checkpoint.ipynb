{
 "cells": [
  {
   "cell_type": "markdown",
   "id": "c5bd2fb9",
   "metadata": {},
   "source": [
    "# Exploratory Data Analysis\n",
    "\n",
    "### Task\n",
    ">**The Client**\n",
    "\n",
    ">XYZ is a private firm in US. Due to remarkable growth in the Cab Industry in last few years and multiple key players in the market, it is planning for an investment in Cab industry and as per their Go-to-Market(G2M) strategy they want to understand the market before taking final decision.\n",
    "\n",
    ">**Project delivery:**\n",
    "\n",
    ">You have been provided with multiple data sets that contains information on 2 cab companies. Each file (data set) provided represents different aspects of the customer profile. XYZ is interested in using your actionable insights to help them identify the right company to make their investment.\n",
    "\n",
    ">The outcome of your delivery will be a **presentation to XYZ’s Executive team**. This presentation will be judged based on the visuals provided, the quality of your analysis and the value of your recommendations and insights. \n",
    "\n",
    ">**Data Set:**\n",
    "\n",
    ">You have been provided 4 individual data sets. **Time period of data is from 31/01/2016 to 31/12/2018**.\n",
    "\n",
    ">Below are the list of datasets which are provided for the analysis:\n",
    "\n",
    ">**Cab_Data.csv** – this file includes details of transaction for 2 cab companies\n",
    "\n",
    ">**Customer_ID.csv** – this is a mapping table that contains a unique identifier which links the customer’s demographic details\n",
    "\n",
    ">**Transaction_ID.csv** – this is a mapping table that contains transaction to customer mapping and payment mode\n",
    "\n",
    ">**City.csv** – this file contains list of US cities, their population and number of cab users\n",
    "\n",
    ">You should fully investigate and understand each data set.\n",
    ">* Review the Source Documentation\n",
    ">* Understand the field names and data types\n",
    ">* Identify relationships across the files\n",
    ">* Field/feature transformations\n",
    ">* Determine which files should be joined versus which ones should be appended\n",
    ">* Create master data and explain the relationship\n",
    ">* Identify and remove duplicates\n",
    ">* Perform other analysis like NA value and outlier detection\n",
    "\n",
    ">**Whatever and how many slides you prepare(Be creative and come up with meaningful insight):**\n",
    "\n",
    ">The idea is to create a hypothesis, engage with the data, think critically, and use various analytical approaches to produce unique insights.\n",
    "\n",
    ">You are not limited to only utilizing the data you have been provided.\n",
    "\n",
    ">We encourage you to find third party data sets which correspond to the overall theme and geographical properties of the data provided.  For Example: you can leverage US holiday data/ weather data\n",
    "\n",
    ">Also, do research on overall cab industry in US and try to relate that with the trend in data\n",
    "\n",
    ">**Analysis**\n",
    "\n",
    ">**Create multiple hypothesis and investigate:**\n",
    "\n",
    ">**You will need to generate 5-7 hypothesis initially to investigate as some will not prove what you are expecting.**\n",
    "\n",
    ">**For Example:** “Is there any seasonality in number of customers using the cab service?”\n",
    "\n",
    ">Areas to investigate:\n",
    ">* Which company has maximum cab users at a particular time period?\n",
    ">* Does margin proportionally increase with increase in number of customers?\n",
    ">* What are the attributes of these customer segments?"
   ]
  },
  {
   "cell_type": "markdown",
   "id": "fc904fbc",
   "metadata": {},
   "source": [
    "### Import Libraries"
   ]
  },
  {
   "cell_type": "code",
   "execution_count": 1,
   "id": "44985994",
   "metadata": {},
   "outputs": [],
   "source": [
    "import pandas as pd\n",
    "import numpy as np\n",
    "import matplotlib.pyplot as plt\n",
    "import seaborn as sns\n",
    "from datetime import date, timedelta\n",
    "%matplotlib inline"
   ]
  },
  {
   "cell_type": "markdown",
   "id": "7b12e0f3",
   "metadata": {},
   "source": [
    "### The Data\n",
    "<font color='blue'>Let's load the different tables that we will be using:</font>\n",
    "* <font color='blue'>Cab_Data.csv</font>\n",
    "* <font color='blue'>Customer_ID.csv</font>\n",
    "* <font color='blue'>Transaction_ID.csv</font>\n",
    "* <font color='blue'>City.csv</font>"
   ]
  },
  {
   "cell_type": "code",
   "execution_count": 2,
   "id": "e99b8f9f",
   "metadata": {},
   "outputs": [],
   "source": [
    "# The data is contained inside the \"DataGlacier\" subfolder within the \"datasets\" folder\n",
    "cab_data = pd.read_csv('datasets/Cab_Data.csv')\n",
    "city_data = pd.read_csv('datasets/City.csv')\n",
    "customer_data = pd.read_csv('datasets/Customer_ID.csv')\n",
    "transaction_data = pd.read_csv('datasets/Transaction_ID.csv')"
   ]
  },
  {
   "cell_type": "markdown",
   "id": "dafb15f8",
   "metadata": {},
   "source": [
    "### <center>1. Details of transaction for 2 cab companies </center>\n",
    "<font color='blue'>Now let's display a summary of the \"cab_data\" table.</font>"
   ]
  },
  {
   "cell_type": "code",
   "execution_count": 3,
   "id": "f6d07f74",
   "metadata": {},
   "outputs": [
    {
     "data": {
      "text/html": [
       "<div>\n",
       "<style scoped>\n",
       "    .dataframe tbody tr th:only-of-type {\n",
       "        vertical-align: middle;\n",
       "    }\n",
       "\n",
       "    .dataframe tbody tr th {\n",
       "        vertical-align: top;\n",
       "    }\n",
       "\n",
       "    .dataframe thead th {\n",
       "        text-align: right;\n",
       "    }\n",
       "</style>\n",
       "<table border=\"1\" class=\"dataframe\">\n",
       "  <thead>\n",
       "    <tr style=\"text-align: right;\">\n",
       "      <th></th>\n",
       "      <th>Transaction ID</th>\n",
       "      <th>Date of Travel</th>\n",
       "      <th>Company</th>\n",
       "      <th>City</th>\n",
       "      <th>KM Travelled</th>\n",
       "      <th>Price Charged</th>\n",
       "      <th>Cost of Trip</th>\n",
       "    </tr>\n",
       "  </thead>\n",
       "  <tbody>\n",
       "    <tr>\n",
       "      <th>0</th>\n",
       "      <td>10000011</td>\n",
       "      <td>42377</td>\n",
       "      <td>Pink Cab</td>\n",
       "      <td>ATLANTA GA</td>\n",
       "      <td>30.45</td>\n",
       "      <td>370.95</td>\n",
       "      <td>313.635</td>\n",
       "    </tr>\n",
       "    <tr>\n",
       "      <th>1</th>\n",
       "      <td>10000012</td>\n",
       "      <td>42375</td>\n",
       "      <td>Pink Cab</td>\n",
       "      <td>ATLANTA GA</td>\n",
       "      <td>28.62</td>\n",
       "      <td>358.52</td>\n",
       "      <td>334.854</td>\n",
       "    </tr>\n",
       "    <tr>\n",
       "      <th>2</th>\n",
       "      <td>10000013</td>\n",
       "      <td>42371</td>\n",
       "      <td>Pink Cab</td>\n",
       "      <td>ATLANTA GA</td>\n",
       "      <td>9.04</td>\n",
       "      <td>125.20</td>\n",
       "      <td>97.632</td>\n",
       "    </tr>\n",
       "  </tbody>\n",
       "</table>\n",
       "</div>"
      ],
      "text/plain": [
       "   Transaction ID  Date of Travel   Company        City  KM Travelled  \\\n",
       "0        10000011           42377  Pink Cab  ATLANTA GA         30.45   \n",
       "1        10000012           42375  Pink Cab  ATLANTA GA         28.62   \n",
       "2        10000013           42371  Pink Cab  ATLANTA GA          9.04   \n",
       "\n",
       "   Price Charged  Cost of Trip  \n",
       "0         370.95       313.635  \n",
       "1         358.52       334.854  \n",
       "2         125.20        97.632  "
      ]
     },
     "execution_count": 3,
     "metadata": {},
     "output_type": "execute_result"
    }
   ],
   "source": [
    "cab_data.head(3)"
   ]
  },
  {
   "cell_type": "markdown",
   "id": "cb5d4ce7",
   "metadata": {},
   "source": [
    "<font color='blue'>Let's also display some information about the data in the table, as well as its statistics.</font>"
   ]
  },
  {
   "cell_type": "code",
   "execution_count": 4,
   "id": "b85abe73",
   "metadata": {},
   "outputs": [
    {
     "data": {
      "text/plain": [
       "<AxesSubplot:>"
      ]
     },
     "execution_count": 4,
     "metadata": {},
     "output_type": "execute_result"
    },
    {
     "data": {
      "image/png": "[encoded data removed]",
      "text/plain": [
       "<Figure size 432x288 with 1 Axes>"
      ]
     },
     "metadata": {
      "needs_background": "light"
     },
     "output_type": "display_data"
    }
   ],
   "source": [
    "miss_cab_data = cab_data.isnull()\n",
    "sns.heatmap(miss_cab_data, yticklabels=False, cbar=False, cmap=\"viridis\")"
   ]
  },
  {
   "cell_type": "markdown",
   "id": "9a069fad",
   "metadata": {},
   "source": [
    "<font color='blue'>We notice that the format of the \"Date of Travel\" column is given by ordinal numbers. We convert the data in this column to date types. </font>"
   ]
  },
  {
   "cell_type": "code",
   "execution_count": 5,
   "id": "11768ace",
   "metadata": {},
   "outputs": [
    {
     "data": {
      "text/html": [
       "<div>\n",
       "<style scoped>\n",
       "    .dataframe tbody tr th:only-of-type {\n",
       "        vertical-align: middle;\n",
       "    }\n",
       "\n",
       "    .dataframe tbody tr th {\n",
       "        vertical-align: top;\n",
       "    }\n",
       "\n",
       "    .dataframe thead th {\n",
       "        text-align: right;\n",
       "    }\n",
       "</style>\n",
       "<table border=\"1\" class=\"dataframe\">\n",
       "  <thead>\n",
       "    <tr style=\"text-align: right;\">\n",
       "      <th></th>\n",
       "      <th>Transaction ID</th>\n",
       "      <th>Date of Travel</th>\n",
       "      <th>Company</th>\n",
       "      <th>City</th>\n",
       "      <th>KM Travelled</th>\n",
       "      <th>Price Charged</th>\n",
       "      <th>Cost of Trip</th>\n",
       "    </tr>\n",
       "  </thead>\n",
       "  <tbody>\n",
       "    <tr>\n",
       "      <th>0</th>\n",
       "      <td>10000011</td>\n",
       "      <td>2016-01-10</td>\n",
       "      <td>Pink Cab</td>\n",
       "      <td>ATLANTA GA</td>\n",
       "      <td>30.45</td>\n",
       "      <td>370.95</td>\n",
       "      <td>313.635</td>\n",
       "    </tr>\n",
       "    <tr>\n",
       "      <th>1</th>\n",
       "      <td>10000012</td>\n",
       "      <td>2016-01-08</td>\n",
       "      <td>Pink Cab</td>\n",
       "      <td>ATLANTA GA</td>\n",
       "      <td>28.62</td>\n",
       "      <td>358.52</td>\n",
       "      <td>334.854</td>\n",
       "    </tr>\n",
       "    <tr>\n",
       "      <th>2</th>\n",
       "      <td>10000013</td>\n",
       "      <td>2016-01-04</td>\n",
       "      <td>Pink Cab</td>\n",
       "      <td>ATLANTA GA</td>\n",
       "      <td>9.04</td>\n",
       "      <td>125.20</td>\n",
       "      <td>97.632</td>\n",
       "    </tr>\n",
       "  </tbody>\n",
       "</table>\n",
       "</div>"
      ],
      "text/plain": [
       "   Transaction ID Date of Travel   Company        City  KM Travelled  \\\n",
       "0        10000011     2016-01-10  Pink Cab  ATLANTA GA         30.45   \n",
       "1        10000012     2016-01-08  Pink Cab  ATLANTA GA         28.62   \n",
       "2        10000013     2016-01-04  Pink Cab  ATLANTA GA          9.04   \n",
       "\n",
       "   Price Charged  Cost of Trip  \n",
       "0         370.95       313.635  \n",
       "1         358.52       334.854  \n",
       "2         125.20        97.632  "
      ]
     },
     "execution_count": 5,
     "metadata": {},
     "output_type": "execute_result"
    }
   ],
   "source": [
    "# transform \"Date of Travel\" data\n",
    "cab_data[\"Date of Travel\"] = cab_data[\"Date of Travel\"].apply(lambda x: date(1900,1,1) + timedelta(x))\n",
    "# display\n",
    "cab_data.head(3)"
   ]
  },
  {
   "cell_type": "markdown",
   "id": "ddafddac",
   "metadata": {},
   "source": [
    "<font color='blue'>We remove duplicates, if there are any, and print a summary of the table.</font>"
   ]
  },
  {
   "cell_type": "code",
   "execution_count": 6,
   "id": "2e0ad216",
   "metadata": {},
   "outputs": [
    {
     "name": "stdout",
     "output_type": "stream",
     "text": [
      "<class 'pandas.core.frame.DataFrame'>\n",
      "Int64Index: 359392 entries, 0 to 359391\n",
      "Data columns (total 7 columns):\n",
      " #   Column          Non-Null Count   Dtype  \n",
      "---  ------          --------------   -----  \n",
      " 0   Transaction ID  359392 non-null  int64  \n",
      " 1   Date of Travel  359392 non-null  object \n",
      " 2   Company         359392 non-null  object \n",
      " 3   City            359392 non-null  object \n",
      " 4   KM Travelled    359392 non-null  float64\n",
      " 5   Price Charged   359392 non-null  float64\n",
      " 6   Cost of Trip    359392 non-null  float64\n",
      "dtypes: float64(3), int64(1), object(3)\n",
      "memory usage: 21.9+ MB\n"
     ]
    },
    {
     "data": {
      "text/html": [
       "<div>\n",
       "<style scoped>\n",
       "    .dataframe tbody tr th:only-of-type {\n",
       "        vertical-align: middle;\n",
       "    }\n",
       "\n",
       "    .dataframe tbody tr th {\n",
       "        vertical-align: top;\n",
       "    }\n",
       "\n",
       "    .dataframe thead th {\n",
       "        text-align: right;\n",
       "    }\n",
       "</style>\n",
       "<table border=\"1\" class=\"dataframe\">\n",
       "  <thead>\n",
       "    <tr style=\"text-align: right;\">\n",
       "      <th></th>\n",
       "      <th>Transaction ID</th>\n",
       "      <th>KM Travelled</th>\n",
       "      <th>Price Charged</th>\n",
       "      <th>Cost of Trip</th>\n",
       "    </tr>\n",
       "  </thead>\n",
       "  <tbody>\n",
       "    <tr>\n",
       "      <th>count</th>\n",
       "      <td>3.593920e+05</td>\n",
       "      <td>359392.000000</td>\n",
       "      <td>359392.000000</td>\n",
       "      <td>359392.000000</td>\n",
       "    </tr>\n",
       "    <tr>\n",
       "      <th>mean</th>\n",
       "      <td>1.022076e+07</td>\n",
       "      <td>22.567254</td>\n",
       "      <td>423.443311</td>\n",
       "      <td>286.190113</td>\n",
       "    </tr>\n",
       "    <tr>\n",
       "      <th>std</th>\n",
       "      <td>1.268058e+05</td>\n",
       "      <td>12.233526</td>\n",
       "      <td>274.378911</td>\n",
       "      <td>157.993661</td>\n",
       "    </tr>\n",
       "    <tr>\n",
       "      <th>min</th>\n",
       "      <td>1.000001e+07</td>\n",
       "      <td>1.900000</td>\n",
       "      <td>15.600000</td>\n",
       "      <td>19.000000</td>\n",
       "    </tr>\n",
       "    <tr>\n",
       "      <th>25%</th>\n",
       "      <td>1.011081e+07</td>\n",
       "      <td>12.000000</td>\n",
       "      <td>206.437500</td>\n",
       "      <td>151.200000</td>\n",
       "    </tr>\n",
       "    <tr>\n",
       "      <th>50%</th>\n",
       "      <td>1.022104e+07</td>\n",
       "      <td>22.440000</td>\n",
       "      <td>386.360000</td>\n",
       "      <td>282.480000</td>\n",
       "    </tr>\n",
       "    <tr>\n",
       "      <th>75%</th>\n",
       "      <td>1.033094e+07</td>\n",
       "      <td>32.960000</td>\n",
       "      <td>583.660000</td>\n",
       "      <td>413.683200</td>\n",
       "    </tr>\n",
       "    <tr>\n",
       "      <th>max</th>\n",
       "      <td>1.044011e+07</td>\n",
       "      <td>48.000000</td>\n",
       "      <td>2048.030000</td>\n",
       "      <td>691.200000</td>\n",
       "    </tr>\n",
       "  </tbody>\n",
       "</table>\n",
       "</div>"
      ],
      "text/plain": [
       "       Transaction ID   KM Travelled  Price Charged   Cost of Trip\n",
       "count    3.593920e+05  359392.000000  359392.000000  359392.000000\n",
       "mean     1.022076e+07      22.567254     423.443311     286.190113\n",
       "std      1.268058e+05      12.233526     274.378911     157.993661\n",
       "min      1.000001e+07       1.900000      15.600000      19.000000\n",
       "25%      1.011081e+07      12.000000     206.437500     151.200000\n",
       "50%      1.022104e+07      22.440000     386.360000     282.480000\n",
       "75%      1.033094e+07      32.960000     583.660000     413.683200\n",
       "max      1.044011e+07      48.000000    2048.030000     691.200000"
      ]
     },
     "execution_count": 6,
     "metadata": {},
     "output_type": "execute_result"
    }
   ],
   "source": [
    "# remove duplicates\n",
    "cab_data = cab_data.drop_duplicates(keep=\"first\")\n",
    "# data summary\n",
    "cab_data.info()\n",
    "cab_data.describe()"
   ]
  },
  {
   "cell_type": "markdown",
   "id": "12bb76cb",
   "metadata": {},
   "source": [
    "### <center>2. US cities </center>\n",
    "<font color='blue'>Let's explore the \"city_data\" table.</font>\n",
    "<br></br>\n",
    "<font color='blue'>We check and see that there are no missing data</font>"
   ]
  },
  {
   "cell_type": "code",
   "execution_count": 7,
   "id": "5c91098b",
   "metadata": {},
   "outputs": [
    {
     "data": {
      "text/plain": [
       "<AxesSubplot:>"
      ]
     },
     "execution_count": 7,
     "metadata": {},
     "output_type": "execute_result"
    },
    {
     "data": {
      "image/png": "[encoded data removed]",
      "text/plain": [
       "<Figure size 432x288 with 1 Axes>"
      ]
     },
     "metadata": {
      "needs_background": "light"
     },
     "output_type": "display_data"
    }
   ],
   "source": [
    "miss_city_data = city_data.isnull()\n",
    "sns.heatmap(miss_city_data, yticklabels=False, cbar=False, cmap=\"viridis\")"
   ]
  },
  {
   "cell_type": "markdown",
   "id": "a764f27a",
   "metadata": {},
   "source": [
    "<font color='blue'>Then we print the 3 first rows of the table:</font>\n",
    "<br></br>\n",
    "<font color='blue'>We notice that the values for \"Population\" and \"Users\" are read as strings (notice the commas). We adjust that by removing the commas, and then converting the strings to integers. We also get rid of potential duplicates and list the statistics of the data.</font>"
   ]
  },
  {
   "cell_type": "code",
   "execution_count": 8,
   "id": "a600c8cc",
   "metadata": {},
   "outputs": [
    {
     "data": {
      "text/html": [
       "<div>\n",
       "<style scoped>\n",
       "    .dataframe tbody tr th:only-of-type {\n",
       "        vertical-align: middle;\n",
       "    }\n",
       "\n",
       "    .dataframe tbody tr th {\n",
       "        vertical-align: top;\n",
       "    }\n",
       "\n",
       "    .dataframe thead th {\n",
       "        text-align: right;\n",
       "    }\n",
       "</style>\n",
       "<table border=\"1\" class=\"dataframe\">\n",
       "  <thead>\n",
       "    <tr style=\"text-align: right;\">\n",
       "      <th></th>\n",
       "      <th>City</th>\n",
       "      <th>Population</th>\n",
       "      <th>Users</th>\n",
       "    </tr>\n",
       "  </thead>\n",
       "  <tbody>\n",
       "    <tr>\n",
       "      <th>0</th>\n",
       "      <td>NEW YORK NY</td>\n",
       "      <td>8,405,837</td>\n",
       "      <td>302,149</td>\n",
       "    </tr>\n",
       "    <tr>\n",
       "      <th>1</th>\n",
       "      <td>CHICAGO IL</td>\n",
       "      <td>1,955,130</td>\n",
       "      <td>164,468</td>\n",
       "    </tr>\n",
       "    <tr>\n",
       "      <th>2</th>\n",
       "      <td>LOS ANGELES CA</td>\n",
       "      <td>1,595,037</td>\n",
       "      <td>144,132</td>\n",
       "    </tr>\n",
       "  </tbody>\n",
       "</table>\n",
       "</div>"
      ],
      "text/plain": [
       "             City   Population      Users\n",
       "0     NEW YORK NY   8,405,837    302,149 \n",
       "1      CHICAGO IL   1,955,130    164,468 \n",
       "2  LOS ANGELES CA   1,595,037    144,132 "
      ]
     },
     "execution_count": 8,
     "metadata": {},
     "output_type": "execute_result"
    }
   ],
   "source": [
    "city_data.head(3)"
   ]
  },
  {
   "cell_type": "code",
   "execution_count": 9,
   "id": "8f254b39",
   "metadata": {},
   "outputs": [
    {
     "data": {
      "text/html": [
       "<div>\n",
       "<style scoped>\n",
       "    .dataframe tbody tr th:only-of-type {\n",
       "        vertical-align: middle;\n",
       "    }\n",
       "\n",
       "    .dataframe tbody tr th {\n",
       "        vertical-align: top;\n",
       "    }\n",
       "\n",
       "    .dataframe thead th {\n",
       "        text-align: right;\n",
       "    }\n",
       "</style>\n",
       "<table border=\"1\" class=\"dataframe\">\n",
       "  <thead>\n",
       "    <tr style=\"text-align: right;\">\n",
       "      <th></th>\n",
       "      <th>City</th>\n",
       "      <th>Population</th>\n",
       "      <th>Users</th>\n",
       "    </tr>\n",
       "  </thead>\n",
       "  <tbody>\n",
       "    <tr>\n",
       "      <th>0</th>\n",
       "      <td>NEW YORK NY</td>\n",
       "      <td>8405837</td>\n",
       "      <td>302149</td>\n",
       "    </tr>\n",
       "    <tr>\n",
       "      <th>1</th>\n",
       "      <td>CHICAGO IL</td>\n",
       "      <td>1955130</td>\n",
       "      <td>164468</td>\n",
       "    </tr>\n",
       "    <tr>\n",
       "      <th>2</th>\n",
       "      <td>LOS ANGELES CA</td>\n",
       "      <td>1595037</td>\n",
       "      <td>144132</td>\n",
       "    </tr>\n",
       "  </tbody>\n",
       "</table>\n",
       "</div>"
      ],
      "text/plain": [
       "             City  Population   Users\n",
       "0     NEW YORK NY     8405837  302149\n",
       "1      CHICAGO IL     1955130  164468\n",
       "2  LOS ANGELES CA     1595037  144132"
      ]
     },
     "execution_count": 9,
     "metadata": {},
     "output_type": "execute_result"
    }
   ],
   "source": [
    "# remove commas in string\n",
    "columns = ['Population','Users']\n",
    "city_data[columns] = city_data[columns].apply(lambda x: x.str.replace(',', ''))\n",
    "\n",
    "# convert to numeric\n",
    "city_data[columns] = city_data[columns].astype(\"int64\")\n",
    "\n",
    "# remove duplicates\n",
    "city_data = city_data.drop_duplicates(keep=\"first\")\n",
    "\n",
    "city_data.head(3)"
   ]
  },
  {
   "cell_type": "code",
   "execution_count": 10,
   "id": "03f42569",
   "metadata": {},
   "outputs": [
    {
     "data": {
      "text/html": [
       "<div>\n",
       "<style scoped>\n",
       "    .dataframe tbody tr th:only-of-type {\n",
       "        vertical-align: middle;\n",
       "    }\n",
       "\n",
       "    .dataframe tbody tr th {\n",
       "        vertical-align: top;\n",
       "    }\n",
       "\n",
       "    .dataframe thead th {\n",
       "        text-align: right;\n",
       "    }\n",
       "</style>\n",
       "<table border=\"1\" class=\"dataframe\">\n",
       "  <thead>\n",
       "    <tr style=\"text-align: right;\">\n",
       "      <th></th>\n",
       "      <th>Population</th>\n",
       "      <th>Users</th>\n",
       "    </tr>\n",
       "  </thead>\n",
       "  <tbody>\n",
       "    <tr>\n",
       "      <th>count</th>\n",
       "      <td>2.000000e+01</td>\n",
       "      <td>20.000000</td>\n",
       "    </tr>\n",
       "    <tr>\n",
       "      <th>mean</th>\n",
       "      <td>1.231592e+06</td>\n",
       "      <td>64520.650000</td>\n",
       "    </tr>\n",
       "    <tr>\n",
       "      <th>std</th>\n",
       "      <td>1.740127e+06</td>\n",
       "      <td>83499.375289</td>\n",
       "    </tr>\n",
       "    <tr>\n",
       "      <th>min</th>\n",
       "      <td>2.489680e+05</td>\n",
       "      <td>3643.000000</td>\n",
       "    </tr>\n",
       "    <tr>\n",
       "      <th>25%</th>\n",
       "      <td>6.086372e+05</td>\n",
       "      <td>11633.250000</td>\n",
       "    </tr>\n",
       "    <tr>\n",
       "      <th>50%</th>\n",
       "      <td>7.845590e+05</td>\n",
       "      <td>23429.000000</td>\n",
       "    </tr>\n",
       "    <tr>\n",
       "      <th>75%</th>\n",
       "      <td>1.067041e+06</td>\n",
       "      <td>91766.000000</td>\n",
       "    </tr>\n",
       "    <tr>\n",
       "      <th>max</th>\n",
       "      <td>8.405837e+06</td>\n",
       "      <td>302149.000000</td>\n",
       "    </tr>\n",
       "  </tbody>\n",
       "</table>\n",
       "</div>"
      ],
      "text/plain": [
       "         Population          Users\n",
       "count  2.000000e+01      20.000000\n",
       "mean   1.231592e+06   64520.650000\n",
       "std    1.740127e+06   83499.375289\n",
       "min    2.489680e+05    3643.000000\n",
       "25%    6.086372e+05   11633.250000\n",
       "50%    7.845590e+05   23429.000000\n",
       "75%    1.067041e+06   91766.000000\n",
       "max    8.405837e+06  302149.000000"
      ]
     },
     "execution_count": 10,
     "metadata": {},
     "output_type": "execute_result"
    }
   ],
   "source": [
    "city_data.describe()"
   ]
  },
  {
   "cell_type": "code",
   "execution_count": 11,
   "id": "b788e668",
   "metadata": {},
   "outputs": [
    {
     "name": "stdout",
     "output_type": "stream",
     "text": [
      "<class 'pandas.core.frame.DataFrame'>\n",
      "Int64Index: 20 entries, 0 to 19\n",
      "Data columns (total 3 columns):\n",
      " #   Column      Non-Null Count  Dtype \n",
      "---  ------      --------------  ----- \n",
      " 0   City        20 non-null     object\n",
      " 1   Population  20 non-null     int64 \n",
      " 2   Users       20 non-null     int64 \n",
      "dtypes: int64(2), object(1)\n",
      "memory usage: 640.0+ bytes\n"
     ]
    },
    {
     "data": {
      "text/html": [
       "<div>\n",
       "<style scoped>\n",
       "    .dataframe tbody tr th:only-of-type {\n",
       "        vertical-align: middle;\n",
       "    }\n",
       "\n",
       "    .dataframe tbody tr th {\n",
       "        vertical-align: top;\n",
       "    }\n",
       "\n",
       "    .dataframe thead th {\n",
       "        text-align: right;\n",
       "    }\n",
       "</style>\n",
       "<table border=\"1\" class=\"dataframe\">\n",
       "  <thead>\n",
       "    <tr style=\"text-align: right;\">\n",
       "      <th></th>\n",
       "      <th>Population</th>\n",
       "      <th>Users</th>\n",
       "    </tr>\n",
       "  </thead>\n",
       "  <tbody>\n",
       "    <tr>\n",
       "      <th>count</th>\n",
       "      <td>2.000000e+01</td>\n",
       "      <td>20.000000</td>\n",
       "    </tr>\n",
       "    <tr>\n",
       "      <th>mean</th>\n",
       "      <td>1.231592e+06</td>\n",
       "      <td>64520.650000</td>\n",
       "    </tr>\n",
       "    <tr>\n",
       "      <th>std</th>\n",
       "      <td>1.740127e+06</td>\n",
       "      <td>83499.375289</td>\n",
       "    </tr>\n",
       "    <tr>\n",
       "      <th>min</th>\n",
       "      <td>2.489680e+05</td>\n",
       "      <td>3643.000000</td>\n",
       "    </tr>\n",
       "    <tr>\n",
       "      <th>25%</th>\n",
       "      <td>6.086372e+05</td>\n",
       "      <td>11633.250000</td>\n",
       "    </tr>\n",
       "    <tr>\n",
       "      <th>50%</th>\n",
       "      <td>7.845590e+05</td>\n",
       "      <td>23429.000000</td>\n",
       "    </tr>\n",
       "    <tr>\n",
       "      <th>75%</th>\n",
       "      <td>1.067041e+06</td>\n",
       "      <td>91766.000000</td>\n",
       "    </tr>\n",
       "    <tr>\n",
       "      <th>max</th>\n",
       "      <td>8.405837e+06</td>\n",
       "      <td>302149.000000</td>\n",
       "    </tr>\n",
       "  </tbody>\n",
       "</table>\n",
       "</div>"
      ],
      "text/plain": [
       "         Population          Users\n",
       "count  2.000000e+01      20.000000\n",
       "mean   1.231592e+06   64520.650000\n",
       "std    1.740127e+06   83499.375289\n",
       "min    2.489680e+05    3643.000000\n",
       "25%    6.086372e+05   11633.250000\n",
       "50%    7.845590e+05   23429.000000\n",
       "75%    1.067041e+06   91766.000000\n",
       "max    8.405837e+06  302149.000000"
      ]
     },
     "execution_count": 11,
     "metadata": {},
     "output_type": "execute_result"
    }
   ],
   "source": [
    "# data summary\n",
    "city_data.info()\n",
    "city_data.describe()"
   ]
  },
  {
   "cell_type": "markdown",
   "id": "300011a5",
   "metadata": {},
   "source": [
    "### <center>3. Customer’s demographic details </center>"
   ]
  },
  {
   "cell_type": "code",
   "execution_count": 12,
   "id": "f89d46fe",
   "metadata": {},
   "outputs": [
    {
     "data": {
      "text/html": [
       "<div>\n",
       "<style scoped>\n",
       "    .dataframe tbody tr th:only-of-type {\n",
       "        vertical-align: middle;\n",
       "    }\n",
       "\n",
       "    .dataframe tbody tr th {\n",
       "        vertical-align: top;\n",
       "    }\n",
       "\n",
       "    .dataframe thead th {\n",
       "        text-align: right;\n",
       "    }\n",
       "</style>\n",
       "<table border=\"1\" class=\"dataframe\">\n",
       "  <thead>\n",
       "    <tr style=\"text-align: right;\">\n",
       "      <th></th>\n",
       "      <th>Customer ID</th>\n",
       "      <th>Gender</th>\n",
       "      <th>Age</th>\n",
       "      <th>Income (USD/Month)</th>\n",
       "    </tr>\n",
       "  </thead>\n",
       "  <tbody>\n",
       "    <tr>\n",
       "      <th>0</th>\n",
       "      <td>29290</td>\n",
       "      <td>Male</td>\n",
       "      <td>28</td>\n",
       "      <td>10813</td>\n",
       "    </tr>\n",
       "    <tr>\n",
       "      <th>1</th>\n",
       "      <td>27703</td>\n",
       "      <td>Male</td>\n",
       "      <td>27</td>\n",
       "      <td>9237</td>\n",
       "    </tr>\n",
       "    <tr>\n",
       "      <th>2</th>\n",
       "      <td>28712</td>\n",
       "      <td>Male</td>\n",
       "      <td>53</td>\n",
       "      <td>11242</td>\n",
       "    </tr>\n",
       "  </tbody>\n",
       "</table>\n",
       "</div>"
      ],
      "text/plain": [
       "   Customer ID Gender  Age  Income (USD/Month)\n",
       "0        29290   Male   28               10813\n",
       "1        27703   Male   27                9237\n",
       "2        28712   Male   53               11242"
      ]
     },
     "execution_count": 12,
     "metadata": {},
     "output_type": "execute_result"
    }
   ],
   "source": [
    "customer_data.head(3)"
   ]
  },
  {
   "cell_type": "code",
   "execution_count": 13,
   "id": "ee6d7271",
   "metadata": {},
   "outputs": [
    {
     "data": {
      "text/plain": [
       "<AxesSubplot:>"
      ]
     },
     "execution_count": 13,
     "metadata": {},
     "output_type": "execute_result"
    },
    {
     "data": {
      "image/png": "[encoded data removed]",
      "text/plain": [
       "<Figure size 432x288 with 1 Axes>"
      ]
     },
     "metadata": {
      "needs_background": "light"
     },
     "output_type": "display_data"
    }
   ],
   "source": [
    "miss_customer_data = customer_data.isnull()\n",
    "sns.heatmap(miss_customer_data, yticklabels=False, cbar=False, cmap=\"viridis\")"
   ]
  },
  {
   "cell_type": "code",
   "execution_count": 14,
   "id": "96269a52",
   "metadata": {},
   "outputs": [
    {
     "name": "stdout",
     "output_type": "stream",
     "text": [
      "<class 'pandas.core.frame.DataFrame'>\n",
      "Int64Index: 49171 entries, 0 to 49170\n",
      "Data columns (total 4 columns):\n",
      " #   Column              Non-Null Count  Dtype \n",
      "---  ------              --------------  ----- \n",
      " 0   Customer ID         49171 non-null  int64 \n",
      " 1   Gender              49171 non-null  object\n",
      " 2   Age                 49171 non-null  int64 \n",
      " 3   Income (USD/Month)  49171 non-null  int64 \n",
      "dtypes: int64(3), object(1)\n",
      "memory usage: 1.9+ MB\n"
     ]
    },
    {
     "data": {
      "text/html": [
       "<div>\n",
       "<style scoped>\n",
       "    .dataframe tbody tr th:only-of-type {\n",
       "        vertical-align: middle;\n",
       "    }\n",
       "\n",
       "    .dataframe tbody tr th {\n",
       "        vertical-align: top;\n",
       "    }\n",
       "\n",
       "    .dataframe thead th {\n",
       "        text-align: right;\n",
       "    }\n",
       "</style>\n",
       "<table border=\"1\" class=\"dataframe\">\n",
       "  <thead>\n",
       "    <tr style=\"text-align: right;\">\n",
       "      <th></th>\n",
       "      <th>Customer ID</th>\n",
       "      <th>Age</th>\n",
       "      <th>Income (USD/Month)</th>\n",
       "    </tr>\n",
       "  </thead>\n",
       "  <tbody>\n",
       "    <tr>\n",
       "      <th>count</th>\n",
       "      <td>49171.000000</td>\n",
       "      <td>49171.000000</td>\n",
       "      <td>49171.000000</td>\n",
       "    </tr>\n",
       "    <tr>\n",
       "      <th>mean</th>\n",
       "      <td>28398.252283</td>\n",
       "      <td>35.363121</td>\n",
       "      <td>15015.631856</td>\n",
       "    </tr>\n",
       "    <tr>\n",
       "      <th>std</th>\n",
       "      <td>17714.137333</td>\n",
       "      <td>12.599066</td>\n",
       "      <td>8002.208253</td>\n",
       "    </tr>\n",
       "    <tr>\n",
       "      <th>min</th>\n",
       "      <td>1.000000</td>\n",
       "      <td>18.000000</td>\n",
       "      <td>2000.000000</td>\n",
       "    </tr>\n",
       "    <tr>\n",
       "      <th>25%</th>\n",
       "      <td>12654.500000</td>\n",
       "      <td>25.000000</td>\n",
       "      <td>8289.500000</td>\n",
       "    </tr>\n",
       "    <tr>\n",
       "      <th>50%</th>\n",
       "      <td>27631.000000</td>\n",
       "      <td>33.000000</td>\n",
       "      <td>14656.000000</td>\n",
       "    </tr>\n",
       "    <tr>\n",
       "      <th>75%</th>\n",
       "      <td>43284.500000</td>\n",
       "      <td>42.000000</td>\n",
       "      <td>21035.000000</td>\n",
       "    </tr>\n",
       "    <tr>\n",
       "      <th>max</th>\n",
       "      <td>60000.000000</td>\n",
       "      <td>65.000000</td>\n",
       "      <td>35000.000000</td>\n",
       "    </tr>\n",
       "  </tbody>\n",
       "</table>\n",
       "</div>"
      ],
      "text/plain": [
       "        Customer ID           Age  Income (USD/Month)\n",
       "count  49171.000000  49171.000000        49171.000000\n",
       "mean   28398.252283     35.363121        15015.631856\n",
       "std    17714.137333     12.599066         8002.208253\n",
       "min        1.000000     18.000000         2000.000000\n",
       "25%    12654.500000     25.000000         8289.500000\n",
       "50%    27631.000000     33.000000        14656.000000\n",
       "75%    43284.500000     42.000000        21035.000000\n",
       "max    60000.000000     65.000000        35000.000000"
      ]
     },
     "execution_count": 14,
     "metadata": {},
     "output_type": "execute_result"
    }
   ],
   "source": [
    "# remove duplicates\n",
    "customer_data = customer_data.drop_duplicates(keep=\"first\")\n",
    "# data summary\n",
    "customer_data.info()\n",
    "customer_data.describe()"
   ]
  },
  {
   "cell_type": "markdown",
   "id": "aa327580",
   "metadata": {},
   "source": [
    "### <center>4. Transactions </center>"
   ]
  },
  {
   "cell_type": "code",
   "execution_count": 15,
   "id": "1ae58b97",
   "metadata": {},
   "outputs": [
    {
     "data": {
      "text/html": [
       "<div>\n",
       "<style scoped>\n",
       "    .dataframe tbody tr th:only-of-type {\n",
       "        vertical-align: middle;\n",
       "    }\n",
       "\n",
       "    .dataframe tbody tr th {\n",
       "        vertical-align: top;\n",
       "    }\n",
       "\n",
       "    .dataframe thead th {\n",
       "        text-align: right;\n",
       "    }\n",
       "</style>\n",
       "<table border=\"1\" class=\"dataframe\">\n",
       "  <thead>\n",
       "    <tr style=\"text-align: right;\">\n",
       "      <th></th>\n",
       "      <th>Transaction ID</th>\n",
       "      <th>Customer ID</th>\n",
       "      <th>Payment_Mode</th>\n",
       "    </tr>\n",
       "  </thead>\n",
       "  <tbody>\n",
       "    <tr>\n",
       "      <th>0</th>\n",
       "      <td>10000011</td>\n",
       "      <td>29290</td>\n",
       "      <td>Card</td>\n",
       "    </tr>\n",
       "    <tr>\n",
       "      <th>1</th>\n",
       "      <td>10000012</td>\n",
       "      <td>27703</td>\n",
       "      <td>Card</td>\n",
       "    </tr>\n",
       "    <tr>\n",
       "      <th>2</th>\n",
       "      <td>10000013</td>\n",
       "      <td>28712</td>\n",
       "      <td>Cash</td>\n",
       "    </tr>\n",
       "  </tbody>\n",
       "</table>\n",
       "</div>"
      ],
      "text/plain": [
       "   Transaction ID  Customer ID Payment_Mode\n",
       "0        10000011        29290         Card\n",
       "1        10000012        27703         Card\n",
       "2        10000013        28712         Cash"
      ]
     },
     "execution_count": 15,
     "metadata": {},
     "output_type": "execute_result"
    }
   ],
   "source": [
    "transaction_data.head(3)"
   ]
  },
  {
   "cell_type": "code",
   "execution_count": 16,
   "id": "6442d222",
   "metadata": {},
   "outputs": [
    {
     "data": {
      "text/plain": [
       "<AxesSubplot:>"
      ]
     },
     "execution_count": 16,
     "metadata": {},
     "output_type": "execute_result"
    },
    {
     "data": {
      "image/png": "[encoded data removed]",
      "text/plain": [
       "<Figure size 432x288 with 1 Axes>"
      ]
     },
     "metadata": {
      "needs_background": "light"
     },
     "output_type": "display_data"
    }
   ],
   "source": [
    "# returns True where data is missing in the table, otherwise False\n",
    "miss_transaction_data = transaction_data.isnull()\n",
    "# plot a heatmap to visualize where data is missing in the table\n",
    "sns.heatmap(miss_transaction_data, yticklabels=False, cbar=False, cmap=\"viridis\")"
   ]
  },
  {
   "cell_type": "code",
   "execution_count": 17,
   "id": "d0355566",
   "metadata": {},
   "outputs": [
    {
     "name": "stdout",
     "output_type": "stream",
     "text": [
      "<class 'pandas.core.frame.DataFrame'>\n",
      "Int64Index: 440098 entries, 0 to 440097\n",
      "Data columns (total 3 columns):\n",
      " #   Column          Non-Null Count   Dtype \n",
      "---  ------          --------------   ----- \n",
      " 0   Transaction ID  440098 non-null  int64 \n",
      " 1   Customer ID     440098 non-null  int64 \n",
      " 2   Payment_Mode    440098 non-null  object\n",
      "dtypes: int64(2), object(1)\n",
      "memory usage: 13.4+ MB\n"
     ]
    },
    {
     "data": {
      "text/html": [
       "<div>\n",
       "<style scoped>\n",
       "    .dataframe tbody tr th:only-of-type {\n",
       "        vertical-align: middle;\n",
       "    }\n",
       "\n",
       "    .dataframe tbody tr th {\n",
       "        vertical-align: top;\n",
       "    }\n",
       "\n",
       "    .dataframe thead th {\n",
       "        text-align: right;\n",
       "    }\n",
       "</style>\n",
       "<table border=\"1\" class=\"dataframe\">\n",
       "  <thead>\n",
       "    <tr style=\"text-align: right;\">\n",
       "      <th></th>\n",
       "      <th>Transaction ID</th>\n",
       "      <th>Customer ID</th>\n",
       "    </tr>\n",
       "  </thead>\n",
       "  <tbody>\n",
       "    <tr>\n",
       "      <th>count</th>\n",
       "      <td>4.400980e+05</td>\n",
       "      <td>440098.000000</td>\n",
       "    </tr>\n",
       "    <tr>\n",
       "      <th>mean</th>\n",
       "      <td>1.022006e+07</td>\n",
       "      <td>23619.513120</td>\n",
       "    </tr>\n",
       "    <tr>\n",
       "      <th>std</th>\n",
       "      <td>1.270455e+05</td>\n",
       "      <td>21195.549816</td>\n",
       "    </tr>\n",
       "    <tr>\n",
       "      <th>min</th>\n",
       "      <td>1.000001e+07</td>\n",
       "      <td>1.000000</td>\n",
       "    </tr>\n",
       "    <tr>\n",
       "      <th>25%</th>\n",
       "      <td>1.011004e+07</td>\n",
       "      <td>3530.000000</td>\n",
       "    </tr>\n",
       "    <tr>\n",
       "      <th>50%</th>\n",
       "      <td>1.022006e+07</td>\n",
       "      <td>15168.000000</td>\n",
       "    </tr>\n",
       "    <tr>\n",
       "      <th>75%</th>\n",
       "      <td>1.033008e+07</td>\n",
       "      <td>43884.000000</td>\n",
       "    </tr>\n",
       "    <tr>\n",
       "      <th>max</th>\n",
       "      <td>1.044011e+07</td>\n",
       "      <td>60000.000000</td>\n",
       "    </tr>\n",
       "  </tbody>\n",
       "</table>\n",
       "</div>"
      ],
      "text/plain": [
       "       Transaction ID    Customer ID\n",
       "count    4.400980e+05  440098.000000\n",
       "mean     1.022006e+07   23619.513120\n",
       "std      1.270455e+05   21195.549816\n",
       "min      1.000001e+07       1.000000\n",
       "25%      1.011004e+07    3530.000000\n",
       "50%      1.022006e+07   15168.000000\n",
       "75%      1.033008e+07   43884.000000\n",
       "max      1.044011e+07   60000.000000"
      ]
     },
     "execution_count": 17,
     "metadata": {},
     "output_type": "execute_result"
    }
   ],
   "source": [
    "# remove duplicates\n",
    "transaction_data = transaction_data.drop_duplicates(keep=\"first\")\n",
    "# data summary\n",
    "transaction_data.info()\n",
    "transaction_data.describe()"
   ]
  },
  {
   "cell_type": "markdown",
   "id": "5e90ce72",
   "metadata": {},
   "source": [
    "## Data Visualization\n",
    "Now that we have cleaned our data, we can start visualizing its statistics in plots\n",
    "\n",
    "\n",
    "<font color='blue'> But, let's first combine some of the tables.</font>\n",
    "* <font color='blue'>We combine the \"Cab_Data\" table with the \"Transaction_ID\" table.</font>\n",
    "* <font color='blue'>Then, we combine the resulting table with the \"Customer_ID\" table.</font>"
   ]
  },
  {
   "cell_type": "code",
   "execution_count": 18,
   "id": "edeb3d8f",
   "metadata": {},
   "outputs": [
    {
     "data": {
      "text/html": [
       "<div>\n",
       "<style scoped>\n",
       "    .dataframe tbody tr th:only-of-type {\n",
       "        vertical-align: middle;\n",
       "    }\n",
       "\n",
       "    .dataframe tbody tr th {\n",
       "        vertical-align: top;\n",
       "    }\n",
       "\n",
       "    .dataframe thead th {\n",
       "        text-align: right;\n",
       "    }\n",
       "</style>\n",
       "<table border=\"1\" class=\"dataframe\">\n",
       "  <thead>\n",
       "    <tr style=\"text-align: right;\">\n",
       "      <th></th>\n",
       "      <th>Transaction ID</th>\n",
       "      <th>Date of Travel</th>\n",
       "      <th>Company</th>\n",
       "      <th>City</th>\n",
       "      <th>KM Travelled</th>\n",
       "      <th>Price Charged</th>\n",
       "      <th>Cost of Trip</th>\n",
       "      <th>Customer ID</th>\n",
       "      <th>Payment_Mode</th>\n",
       "    </tr>\n",
       "  </thead>\n",
       "  <tbody>\n",
       "    <tr>\n",
       "      <th>0</th>\n",
       "      <td>10000011</td>\n",
       "      <td>2016-01-10</td>\n",
       "      <td>Pink Cab</td>\n",
       "      <td>ATLANTA GA</td>\n",
       "      <td>30.45</td>\n",
       "      <td>370.95</td>\n",
       "      <td>313.635</td>\n",
       "      <td>29290</td>\n",
       "      <td>Card</td>\n",
       "    </tr>\n",
       "    <tr>\n",
       "      <th>1</th>\n",
       "      <td>10000012</td>\n",
       "      <td>2016-01-08</td>\n",
       "      <td>Pink Cab</td>\n",
       "      <td>ATLANTA GA</td>\n",
       "      <td>28.62</td>\n",
       "      <td>358.52</td>\n",
       "      <td>334.854</td>\n",
       "      <td>27703</td>\n",
       "      <td>Card</td>\n",
       "    </tr>\n",
       "    <tr>\n",
       "      <th>2</th>\n",
       "      <td>10000013</td>\n",
       "      <td>2016-01-04</td>\n",
       "      <td>Pink Cab</td>\n",
       "      <td>ATLANTA GA</td>\n",
       "      <td>9.04</td>\n",
       "      <td>125.20</td>\n",
       "      <td>97.632</td>\n",
       "      <td>28712</td>\n",
       "      <td>Cash</td>\n",
       "    </tr>\n",
       "  </tbody>\n",
       "</table>\n",
       "</div>"
      ],
      "text/plain": [
       "   Transaction ID Date of Travel   Company        City  KM Travelled  \\\n",
       "0        10000011     2016-01-10  Pink Cab  ATLANTA GA         30.45   \n",
       "1        10000012     2016-01-08  Pink Cab  ATLANTA GA         28.62   \n",
       "2        10000013     2016-01-04  Pink Cab  ATLANTA GA          9.04   \n",
       "\n",
       "   Price Charged  Cost of Trip  Customer ID Payment_Mode  \n",
       "0         370.95       313.635        29290         Card  \n",
       "1         358.52       334.854        27703         Card  \n",
       "2         125.20        97.632        28712         Cash  "
      ]
     },
     "execution_count": 18,
     "metadata": {},
     "output_type": "execute_result"
    }
   ],
   "source": [
    "# join the \"Cab_Data\" table with the \"Transaction_ID\" table\n",
    "cab_data_v02 = pd.merge(\n",
    "    cab_data,\n",
    "    transaction_data,\n",
    "    on = \"Transaction ID\"\n",
    ")\n",
    "cab_data_v02.head(3)"
   ]
  },
  {
   "cell_type": "code",
   "execution_count": 19,
   "id": "d5a27352",
   "metadata": {},
   "outputs": [
    {
     "data": {
      "text/html": [
       "<div>\n",
       "<style scoped>\n",
       "    .dataframe tbody tr th:only-of-type {\n",
       "        vertical-align: middle;\n",
       "    }\n",
       "\n",
       "    .dataframe tbody tr th {\n",
       "        vertical-align: top;\n",
       "    }\n",
       "\n",
       "    .dataframe thead th {\n",
       "        text-align: right;\n",
       "    }\n",
       "</style>\n",
       "<table border=\"1\" class=\"dataframe\">\n",
       "  <thead>\n",
       "    <tr style=\"text-align: right;\">\n",
       "      <th></th>\n",
       "      <th>Transaction ID</th>\n",
       "      <th>Date of Travel</th>\n",
       "      <th>Company</th>\n",
       "      <th>City</th>\n",
       "      <th>KM Travelled</th>\n",
       "      <th>Price Charged</th>\n",
       "      <th>Cost of Trip</th>\n",
       "      <th>Customer ID</th>\n",
       "      <th>Payment_Mode</th>\n",
       "      <th>Gender</th>\n",
       "      <th>Age</th>\n",
       "      <th>Income (USD/Month)</th>\n",
       "    </tr>\n",
       "  </thead>\n",
       "  <tbody>\n",
       "    <tr>\n",
       "      <th>0</th>\n",
       "      <td>10000011</td>\n",
       "      <td>2016-01-10</td>\n",
       "      <td>Pink Cab</td>\n",
       "      <td>ATLANTA GA</td>\n",
       "      <td>30.45</td>\n",
       "      <td>370.95</td>\n",
       "      <td>313.6350</td>\n",
       "      <td>29290</td>\n",
       "      <td>Card</td>\n",
       "      <td>Male</td>\n",
       "      <td>28</td>\n",
       "      <td>10813</td>\n",
       "    </tr>\n",
       "    <tr>\n",
       "      <th>1</th>\n",
       "      <td>10351127</td>\n",
       "      <td>2018-07-23</td>\n",
       "      <td>Yellow Cab</td>\n",
       "      <td>ATLANTA GA</td>\n",
       "      <td>26.19</td>\n",
       "      <td>598.70</td>\n",
       "      <td>317.4228</td>\n",
       "      <td>29290</td>\n",
       "      <td>Cash</td>\n",
       "      <td>Male</td>\n",
       "      <td>28</td>\n",
       "      <td>10813</td>\n",
       "    </tr>\n",
       "    <tr>\n",
       "      <th>2</th>\n",
       "      <td>10412921</td>\n",
       "      <td>2018-11-25</td>\n",
       "      <td>Yellow Cab</td>\n",
       "      <td>ATLANTA GA</td>\n",
       "      <td>42.55</td>\n",
       "      <td>792.05</td>\n",
       "      <td>597.4020</td>\n",
       "      <td>29290</td>\n",
       "      <td>Card</td>\n",
       "      <td>Male</td>\n",
       "      <td>28</td>\n",
       "      <td>10813</td>\n",
       "    </tr>\n",
       "  </tbody>\n",
       "</table>\n",
       "</div>"
      ],
      "text/plain": [
       "   Transaction ID Date of Travel     Company        City  KM Travelled  \\\n",
       "0        10000011     2016-01-10    Pink Cab  ATLANTA GA         30.45   \n",
       "1        10351127     2018-07-23  Yellow Cab  ATLANTA GA         26.19   \n",
       "2        10412921     2018-11-25  Yellow Cab  ATLANTA GA         42.55   \n",
       "\n",
       "   Price Charged  Cost of Trip  Customer ID Payment_Mode Gender  Age  \\\n",
       "0         370.95      313.6350        29290         Card   Male   28   \n",
       "1         598.70      317.4228        29290         Cash   Male   28   \n",
       "2         792.05      597.4020        29290         Card   Male   28   \n",
       "\n",
       "   Income (USD/Month)  \n",
       "0               10813  \n",
       "1               10813  \n",
       "2               10813  "
      ]
     },
     "execution_count": 19,
     "metadata": {},
     "output_type": "execute_result"
    }
   ],
   "source": [
    "# join the new table with the \"Customer_ID\" table\n",
    "full_cab_data = pd.merge(\n",
    "    cab_data_v02,\n",
    "    customer_data,\n",
    "    on = \"Customer ID\"\n",
    ")\n",
    "full_cab_data.head(3)"
   ]
  },
  {
   "cell_type": "markdown",
   "id": "ec8ccd32",
   "metadata": {},
   "source": [
    "**Now, let's visualize the statistics**\n",
    "### <center>1. Transaction Overview </center>\n",
    "\n",
    "<font color='blue'>From the plot below, we can see that the **Yellow Cab** company has overwhelmingly processed more transactions than Pink Cab.</font>\n",
    "<br></br>\n",
    "<font color='blue'>For both companies, the majority of payments where made by **Card**. This suggests that users of both cab companies find this payment method more convenient.</font>"
   ]
  },
  {
   "cell_type": "code",
   "execution_count": 20,
   "id": "e19b8593",
   "metadata": {},
   "outputs": [
    {
     "data": {
      "text/plain": [
       "<AxesSubplot:title={'center':'Total Transactions by Payment Mode'}, xlabel='Company', ylabel='count'>"
      ]
     },
     "execution_count": 20,
     "metadata": {},
     "output_type": "execute_result"
    },
    {
     "data": {
      "image/png": "[encoded data removed]",
      "text/plain": [
       "<Figure size 1080x360 with 2 Axes>"
      ]
     },
     "metadata": {
      "needs_background": "light"
     },
     "output_type": "display_data"
    }
   ],
   "source": [
    "f = plt.figure(figsize=(15, 5))\n",
    "\n",
    "f.add_subplot(1,2,1)\n",
    "plt.title(\"Total Transactions\")\n",
    "sns.set_style(\"whitegrid\")\n",
    "sns.countplot(x=\"Company\", data=full_cab_data, palette=[\"#d40404\",\"#ffdd00\"])\n",
    "\n",
    "f.add_subplot(1,2,2)\n",
    "plt.title(\"Total Transactions by Payment Mode\")\n",
    "sns.set_style(\"whitegrid\")\n",
    "sns.countplot(x=\"Company\", hue=\"Payment_Mode\", data=full_cab_data, orient=\"h\", palette=\"rainbow\")"
   ]
  },
  {
   "cell_type": "markdown",
   "id": "ae988fbb",
   "metadata": {},
   "source": [
    "### <center>2. Locations </center>\n",
    "<font color='blue'>We can get more insight into the transactions by further classifying them by the locations where they occurred. Most of the transactions occurred in **Chicago** and **New York**.</font>"
   ]
  },
  {
   "cell_type": "code",
   "execution_count": 21,
   "id": "1319281e",
   "metadata": {},
   "outputs": [
    {
     "data": {
      "image/png": "[encoded data removed]",
      "text/plain": [
       "<Figure size 864x432 with 2 Axes>"
      ]
     },
     "metadata": {},
     "output_type": "display_data"
    }
   ],
   "source": [
    "# location of transactions\n",
    "f2 = plt.figure(figsize=(12,6))\n",
    "\n",
    "# City Population\n",
    "f2.add_subplot(1,2,1)\n",
    "plt.title(\"City Population\",fontweight='bold')\n",
    "sns.set_style(\"whitegrid\")\n",
    "sns.barplot(x=\"City\", y=\"Population\", data=city_data, palette=\"pastel\")\n",
    "plt.xticks(rotation=70)\n",
    "\n",
    "\n",
    "# City Users\n",
    "f2.add_subplot(1,2,2)\n",
    "plt.title(\"City Users\",fontweight='bold')\n",
    "sns.set_style(\"whitegrid\")\n",
    "sns.barplot(x=\"City\", y=\"Users\", data=city_data, palette=\"pastel\")\n",
    "plt.xticks(rotation=70)\n",
    "\n",
    "f2.tight_layout()"
   ]
  },
  {
   "cell_type": "code",
   "execution_count": 22,
   "id": "76fa2a18",
   "metadata": {},
   "outputs": [
    {
     "data": {
      "image/png": "[encoded data removed]",
      "text/plain": [
       "<Figure size 864x432 with 2 Axes>"
      ]
     },
     "metadata": {},
     "output_type": "display_data"
    }
   ],
   "source": [
    "# location of transactions\n",
    "f3 = plt.figure(figsize=(12,6))\n",
    "\n",
    "\n",
    "# Transactions by location\n",
    "f3.add_subplot(1,2,1)\n",
    "plt.title(\"Transactions by location\",fontweight='bold')\n",
    "sns.set_style(\"whitegrid\")\n",
    "sns.countplot(x=\"Company\", hue=\"City\", data=full_cab_data, palette=\"rainbow\")\n",
    "plt.legend(loc=\"upper left\", prop={'size': 8})\n",
    "\n",
    "\n",
    "# Ratio of Transactions to Population in cities\n",
    "f3.add_subplot(1,2,2)\n",
    "\n",
    "## Summary of transactions\n",
    "transaction_summary = full_cab_data.groupby([\"City\",\"Company\"]).size().reset_index(name=\"Transactions\")\n",
    "\n",
    "# pink cab\n",
    "pink_cab_summary = transaction_summary.loc[transaction_summary['Company'] == \"Pink Cab\", :]\n",
    "pink_cab_summary = pink_cab_summary.sort_values(by=\"City\").reset_index() # sort table\n",
    "# yellow cab\n",
    "yellow_cab_summary = transaction_summary.loc[transaction_summary['Company'] == \"Yellow Cab\", :]\n",
    "yellow_cab_summary = yellow_cab_summary.sort_values(by=\"City\").reset_index() # sort table\n",
    "\n",
    "## Ratio of \"Transactions\" to \"Population\" in Cities\n",
    "# do not consider \"SAN FRANCISCO CA\"\n",
    "denominator = city_data.sort_values(by=\"City\").loc[(city_data[\"City\"]!=\"SAN FRANCISCO CA\"), :]\n",
    "denominator = denominator.reset_index()[\"Population\"]\n",
    "\n",
    "# calculate ratios\n",
    "pink_cab_ratio = pink_cab_summary[\"Transactions\"].div(denominator)\n",
    "yellow_cab_ratio = yellow_cab_summary[\"Transactions\"].div(denominator)\n",
    "\n",
    "# turn into dataframes\n",
    "pink_cab_ratio = pd.concat([pink_cab_summary[[\"City\",\"Company\"]],\n",
    "                           pd.DataFrame(pink_cab_ratio, columns=[\"Transaction Ratio\"])], axis=1\n",
    ")\n",
    "yellow_cab_ratio = pd.concat([yellow_cab_summary[[\"City\",\"Company\"]],\n",
    "                           pd.DataFrame(yellow_cab_ratio, columns=[\"Transaction Ratio\"])], axis=1\n",
    ")\n",
    "transaction_ratio = pd.concat([pink_cab_ratio,yellow_cab_ratio], axis=0).reset_index()\n",
    "\n",
    "# plot\n",
    "plt.title(\"Ratio of Transactions to Population in cities\",fontweight='bold')\n",
    "sns.set_style(\"whitegrid\")\n",
    "sns.barplot(x=\"City\", y=\"Transaction Ratio\", hue=\"Company\", data=transaction_ratio, palette=[\"#d40404\",\"#ffdd00\"])\n",
    "plt.xticks(rotation=70)\n",
    "\n",
    "f3.tight_layout()"
   ]
  },
  {
   "cell_type": "markdown",
   "id": "c2f9f5c9",
   "metadata": {},
   "source": [
    "### <center>3. Car Ride Activities </center>\n",
    "<font color='blue'>If we look at the histograms of the number of kilometers/ride, we observe that the distances are uniformly distributed **between 0 km and 40 km**. Fewer rides exceed 40 kilometers.</font>"
   ]
  },
  {
   "cell_type": "code",
   "execution_count": 23,
   "id": "119ba97b",
   "metadata": {},
   "outputs": [
    {
     "data": {
      "text/plain": [
       "<AxesSubplot:title={'center':'Histogram of kilometers travelled'}, xlabel='KM Travelled', ylabel='Count'>"
      ]
     },
     "execution_count": 23,
     "metadata": {},
     "output_type": "execute_result"
    },
    {
     "data": {
      "image/png": "[encoded data removed]",
      "text/plain": [
       "<Figure size 432x288 with 1 Axes>"
      ]
     },
     "metadata": {},
     "output_type": "display_data"
    }
   ],
   "source": [
    "plt.title(\"Histogram of kilometers travelled\", fontweight=\"bold\")\n",
    "sns.set_style(\"whitegrid\")\n",
    "sns.histplot(data=full_cab_data, x='KM Travelled', hue='Company', multiple='dodge', palette=[\"#d40404\",\"#ffdd00\"], bins=20)"
   ]
  },
  {
   "cell_type": "markdown",
   "id": "afde0aed",
   "metadata": {},
   "source": [
    "<font color='blue'>By plotting a histogram of the dates of the transactions over the 2016-2018 period, we observe that both companies recorded their **highest number of activities in 2017 and 2018**, while they performed a little worse in the year 2016.</font>"
   ]
  },
  {
   "cell_type": "code",
   "execution_count": 24,
   "id": "b82712e6",
   "metadata": {},
   "outputs": [
    {
     "name": "stderr",
     "output_type": "stream",
     "text": [
      "<ipython-input-24-45cd860d5886>:4: SettingWithCopyWarning: \n",
      "A value is trying to be set on a copy of a slice from a DataFrame.\n",
      "Try using .loc[row_indexer,col_indexer] = value instead\n",
      "\n",
      "See the caveats in the documentation: https://pandas.pydata.org/pandas-docs/stable/user_guide/indexing.html#returning-a-view-versus-a-copy\n",
      "  temp_table[\"Date of Travel\"] = temp_table[\"Date of Travel\"].apply(lambda x: x.year)\n"
     ]
    },
    {
     "data": {
      "text/plain": [
       "<AxesSubplot:title={'center':'Activity over the years'}, xlabel='Date of Travel', ylabel='Count'>"
      ]
     },
     "execution_count": 24,
     "metadata": {},
     "output_type": "execute_result"
    },
    {
     "data": {
      "image/png": "[encoded data removed]",
      "text/plain": [
       "<Figure size 576x432 with 1 Axes>"
      ]
     },
     "metadata": {},
     "output_type": "display_data"
    }
   ],
   "source": [
    "# copy values of interest\n",
    "temp_table = full_cab_data[[\"Date of Travel\",\"Company\"]]\n",
    "# convert dates to only years\n",
    "temp_table[\"Date of Travel\"] = temp_table[\"Date of Travel\"].apply(lambda x: x.year)\n",
    "\n",
    "# plot\n",
    "plt.figure(figsize=(8,6))\n",
    "plt.title(\"Activity over the years\", fontweight=\"bold\")\n",
    "sns.set_style(\"whitegrid\")\n",
    "sns.histplot(data=temp_table, x='Date of Travel', hue='Company', multiple='dodge', palette=[\"#d40404\",\"#ffdd00\"], bins=3)"
   ]
  },
  {
   "cell_type": "markdown",
   "id": "9bb40328",
   "metadata": {},
   "source": [
    "### <center>4. Financial History of Companies </center>\n",
    "<font color='blue'>By substracting the costs of trips from the corresponding prices charged, we can come up with the profits/losses the cabs made for those trips.</font>\n",
    "<br/>\n",
    "<br/>\n",
    "<font color='blue'>By plotting a histogram of those profits, we readily see that **Yellow Cab** has had **higher earnings**. This totally makes sense given that they have processed more transactions than Pink Cab.</font>"
   ]
  },
  {
   "cell_type": "code",
   "execution_count": 25,
   "id": "cde72573",
   "metadata": {},
   "outputs": [
    {
     "data": {
      "text/plain": [
       "<AxesSubplot:title={'center':'Profit of Companies'}, xlabel='Profit', ylabel='Count'>"
      ]
     },
     "execution_count": 25,
     "metadata": {},
     "output_type": "execute_result"
    },
    {
     "data": {
      "image/png": "[encoded data removed]",
      "text/plain": [
       "<Figure size 576x432 with 1 Axes>"
      ]
     },
     "metadata": {},
     "output_type": "display_data"
    }
   ],
   "source": [
    "# profits\n",
    "company_profit = pd.DataFrame(full_cab_data[\"Price Charged\"] - full_cab_data[\"Cost of Trip\"], columns=[\"Profit\"])\n",
    "# add company names to table\n",
    "company_profit = pd.concat([full_cab_data['Company'], company_profit],\n",
    "    axis=1, names=[\"Company\",\"Profit\"]\n",
    ")\n",
    "\n",
    "plt.figure(figsize=(8,6))\n",
    "plt.title(\"Profit of Companies\", fontweight=\"bold\")\n",
    "sns.set_style(\"whitegrid\")\n",
    "sns.histplot(data=company_profit, x='Profit', hue='Company', multiple='dodge', palette=[\"#d40404\",\"#ffdd00\"], bins=20)\n",
    "#full_cab_data[[\"Price Charged\",\"Cost of Trip\"]].hist(by=full_cab_data[\"Company\"], bins=20,\n",
    "#                                                     sharey=True, figsize = (12,3), color=['#1F1C1B','#3C6EA6'], legend=True)"
   ]
  },
  {
   "cell_type": "markdown",
   "id": "493037ee",
   "metadata": {},
   "source": [
    "### <center>5. Profile of Customers </center>\n",
    "<font color='blue'>We can look at the age distribution of the customers of each company. For that, we create a new table and make sure to drop duplicates.</font>\n",
    "<br/>\n",
    "<br/>\n",
    "<font color='blue'>**Most cab riders are 40-year-old or younger**.</font>"
   ]
  },
  {
   "cell_type": "code",
   "execution_count": 26,
   "id": "71b9cda8",
   "metadata": {},
   "outputs": [
    {
     "data": {
      "text/plain": [
       "<AxesSubplot:title={'center':'Age of customers'}, xlabel='Age', ylabel='Count'>"
      ]
     },
     "execution_count": 26,
     "metadata": {},
     "output_type": "execute_result"
    },
    {
     "data": {
      "image/png": "[encoded data removed]",
      "text/plain": [
       "<Figure size 576x432 with 1 Axes>"
      ]
     },
     "metadata": {},
     "output_type": "display_data"
    }
   ],
   "source": [
    "# create a custom table for ages\n",
    "age_table = full_cab_data[[\"Company\",\"Age\",\"Customer ID\"]]\n",
    "age_table = age_table.drop_duplicates(keep=\"first\")\n",
    "\n",
    "# plot\n",
    "plt.figure(figsize=(8,6))\n",
    "plt.title(\"Age of customers\", fontweight=\"bold\")\n",
    "sns.set_style(\"whitegrid\")\n",
    "sns.histplot(data=age_table, x='Age', hue='Company', multiple='dodge', palette=[\"#d40404\",\"#ffdd00\"], bins=20)"
   ]
  },
  {
   "cell_type": "markdown",
   "id": "bacfa05a",
   "metadata": {},
   "source": [
    "<font color='blue'>We can look at the age distribution of the customers of each company. For that, we create a new table and make sure to drop duplicates.</font>\n",
    "<br/>\n",
    "<br/>\n",
    "<font color='blue'>From a barplot of the genders, we may conclude that **males used cab riding services more often than females**.</font>"
   ]
  },
  {
   "cell_type": "code",
   "execution_count": 27,
   "id": "ac235a26",
   "metadata": {},
   "outputs": [
    {
     "data": {
      "image/png": "[encoded data removed]",
      "text/plain": [
       "<Figure size 1080x216 with 3 Axes>"
      ]
     },
     "metadata": {},
     "output_type": "display_data"
    }
   ],
   "source": [
    "# create a custom table for genders\n",
    "gender_table = full_cab_data[[\"Company\",\"Gender\",\"Customer ID\"]]\n",
    "gender_table = gender_table.drop_duplicates(keep=\"first\")\n",
    "\n",
    "# plot\n",
    "f = plt.figure(figsize=(15, 3))\n",
    "\n",
    "# gender distribution\n",
    "f.add_subplot(1, 3, 1)\n",
    "plt.title(\"Gender Distribution\", fontweight=\"bold\")\n",
    "sns.set_style(\"whitegrid\")\n",
    "sns.countplot(data=gender_table, x='Gender', hue='Company', palette=[\"#d40404\",\"#ffdd00\"])\n",
    "\n",
    "# pieplot\n",
    "\n",
    "# gender distribution: Pink Cab\n",
    "f.add_subplot(1, 3, 2)\n",
    "\n",
    "data = gender_table[\"Gender\"].loc[gender_table['Company'] == \"Pink Cab\"]\n",
    "data = pd.DataFrame(data, columns = [\"Gender\"])\n",
    "data = data.groupby(by=\"Gender\").size()\n",
    "\n",
    "labels = gender_table[\"Gender\"].drop_duplicates(keep=\"first\")\n",
    "\n",
    "plt.title(\"Gender Distribution: Pink Cab\", fontweight=\"bold\")\n",
    "plt.pie(data, labels = labels, autopct='%.1f')\n",
    "\n",
    "# gender distribution: Yellow Cab\n",
    "f.add_subplot(1, 3, 3)\n",
    "\n",
    "data = gender_table[\"Gender\"].loc[gender_table['Company'] == \"Yellow Cab\"]\n",
    "data = pd.DataFrame(data, columns = [\"Gender\"])\n",
    "data = data.groupby(by=\"Gender\").size()\n",
    "\n",
    "labels = gender_table[\"Gender\"].drop_duplicates(keep=\"first\")\n",
    "\n",
    "plt.title(\"Gender Distribution: Yellow Cab\", fontweight=\"bold\")\n",
    "plt.pie(data, labels = labels, autopct='%.1f')\n",
    "plt.show()\n"
   ]
  },
  {
   "cell_type": "markdown",
   "id": "05e1e60c",
   "metadata": {},
   "source": [
    "This concludes the Exploratory Data Analysis of the dataset."
   ]
  },
  {
   "cell_type": "code",
   "execution_count": null,
   "id": "f733bd62",
   "metadata": {},
   "outputs": [],
   "source": []
  }
 ],
 "metadata": {
  "kernelspec": {
   "display_name": "Python 3 (ipykernel)",
   "language": "python",
   "name": "python3"
  },
  "language_info": {
   "codemirror_mode": {
    "name": "ipython",
    "version": 3
   },
   "file_extension": ".py",
   "mimetype": "text/x-python",
   "name": "python",
   "nbconvert_exporter": "python",
   "pygments_lexer": "ipython3",
   "version": "3.9.13"
  }
 },
 "nbformat": 4,
 "nbformat_minor": 5
}
