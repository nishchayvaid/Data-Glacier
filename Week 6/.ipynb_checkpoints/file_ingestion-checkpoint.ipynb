{
 "cells": [
  {
   "cell_type": "code",
   "execution_count": 4,
   "id": "6949eb3a",
   "metadata": {},
   "outputs": [],
   "source": [
    "import os\n",
    "import time\n",
    "import pandas as pd\n",
    "os.environ[\"MODIN_ENGINE\"] = \"dask\"  # Modin will use Dask\n",
    "import dask.dataframe as dd\n",
    "import modin.pandas as mpd\n",
    "import yaml"
   ]
  },
  {
   "cell_type": "code",
   "execution_count": 5,
   "id": "a549554b",
   "metadata": {},
   "outputs": [
    {
     "name": "stdout",
     "output_type": "stream",
     "text": [
      "Time taken by Pandas: 36.29462122917175 seconds\n",
      "Time taken by Dask: 24.996678829193115 seconds\n"
     ]
    },
    {
     "name": "stderr",
     "output_type": "stream",
     "text": [
      "UserWarning: Dask execution environment not yet initialized. Initializing...\n",
      "To remove this warning, run the following python code before doing dataframe operations:\n",
      "\n",
      "    from distributed import Client\n",
      "\n",
      "    client = Client()\n",
      "\n"
     ]
    },
    {
     "name": "stdout",
     "output_type": "stream",
     "text": [
      "Time taken by Modin: 40.94792652130127 seconds\n"
     ]
    }
   ],
   "source": [
    "file_path = 'Combined_Flights_2021.csv'\n",
    "\n",
    "# Method 1: Pandas\n",
    "# Read the CSV file using Pandas and measure the time taken\n",
    "start_time = time.time()\n",
    "df_pandas = pd.read_csv(file_path)\n",
    "end_time = time.time()\n",
    "time_pandas = end_time - start_time\n",
    "print(\"Time taken by Pandas:\", time_pandas, \"seconds\")\n",
    "\n",
    "# Method 2: Dask\n",
    "# Read the CSV file using Dask and measure the time taken\n",
    "start_time = time.time()\n",
    "df_dask = dd.read_csv(file_path)\n",
    "df_dask.compute()\n",
    "end_time = time.time()\n",
    "time_dask = end_time - start_time\n",
    "print(\"Time taken by Dask:\", time_dask, \"seconds\")\n",
    "\n",
    "# Method 3: Modin\n",
    "# Read the CSV file using Modin and measure the time taken\n",
    "start_time = time.time()\n",
    "df_modin = mpd.read_csv(file_path)\n",
    "end_time = time.time()\n",
    "time_modin = end_time - start_time\n",
    "print(\"Time taken by Modin:\", time_modin, \"seconds\")\n",
    "\n",
    "# Conclusion: Dask showed the fastest computational speed"
   ]
  },
  {
   "cell_type": "code",
   "execution_count": 6,
   "id": "b467fede",
   "metadata": {},
   "outputs": [
    {
     "name": "stderr",
     "output_type": "stream",
     "text": [
      "FutureWarning: The default value of regex will change from True to False in a future version.\n"
     ]
    }
   ],
   "source": [
    "# Perform basic validation on data columns\n",
    "\n",
    "# Read the CSV file into a DataFrame\n",
    "df = pd.read_csv(file_path)\n",
    "\n",
    "# Remove special characters from column names\n",
    "# Using regex, replace any characters that are not letters, numbers, or underscores with an underscore\n",
    "df.columns = df.columns.str.replace('[^a-zA-Z0-9]+', '_')\n",
    "\n",
    "# Remove leading and trailing whitespaces from column names and convert them to lowercase\n",
    "df.columns = df.columns.str.strip().str.lower()\n",
    "\n",
    "# Check for missing values in each column\n",
    "# The `isnull()` function returns a DataFrame of the same shape as `df` with True for missing values and False for non-missing values\n",
    "# The `sum()` function is then applied to the resulting DataFrame to calculate the total number of missing values in each column\n",
    "missing_values = df.isnull().sum()\n",
    "\n",
    "# Check for duplicates in the DataFrame\n",
    "# The `duplicated()` function returns a boolean Series that indicates whether each row is duplicated or not\n",
    "# By applying the function to `df`, it returns a DataFrame containing only the duplicated rows\n",
    "duplicates = df[df.duplicated()]\n"
   ]
  },
  {
   "cell_type": "code",
   "execution_count": 7,
   "id": "cf45f867",
   "metadata": {
    "scrolled": true
   },
   "outputs": [
    {
     "name": "stdout",
     "output_type": "stream",
     "text": [
      "['flightdate', 'airline', 'origin', 'dest', 'cancelled', 'diverted', 'crsdeptime', 'deptime', 'depdelayminutes', 'depdelay', 'arrtime', 'arrdelayminutes', 'airtime', 'crselapsedtime', 'actualelapsedtime', 'distance', 'year', 'quarter', 'month', 'dayofmonth', 'dayofweek', 'marketing_airline_network', 'operated_or_branded_code_share_partners', 'dot_id_marketing_airline', 'iata_code_marketing_airline', 'flight_number_marketing_airline', 'operating_airline', 'dot_id_operating_airline', 'iata_code_operating_airline', 'tail_number', 'flight_number_operating_airline', 'originairportid', 'originairportseqid', 'origincitymarketid', 'origincityname', 'originstate', 'originstatefips', 'originstatename', 'originwac', 'destairportid', 'destairportseqid', 'destcitymarketid', 'destcityname', 'deststate', 'deststatefips', 'deststatename', 'destwac', 'depdel15', 'departuredelaygroups', 'deptimeblk', 'taxiout', 'wheelsoff', 'wheelson', 'taxiin', 'crsarrtime', 'arrdelay', 'arrdel15', 'arrivaldelaygroups', 'arrtimeblk', 'distancegroup', 'divairportlandings']\n"
     ]
    }
   ],
   "source": [
    "# Get all columns of the DataFrame\n",
    "\n",
    "# Convert the DataFrame columns to a list using the `tolist()` method\n",
    "all_cols = df.columns.tolist()\n",
    "\n",
    "# Print the columns\n",
    "print(all_cols)"
   ]
  },
  {
   "cell_type": "code",
   "execution_count": 8,
   "id": "15bcd8a7",
   "metadata": {},
   "outputs": [],
   "source": [
    "# Validating the number of columns and column names of an ingested file with a YAML schema.\n",
    "\n",
    "import yaml\n",
    "\n",
    "# Load the YAML schema from the file\n",
    "with open('file.yaml', 'r') as f:\n",
    "    schema = yaml.safe_load(f)\n",
    "\n",
    "# Check if 'columns' key is present in the schema\n",
    "if 'columns' not in schema:\n",
    "    print(\"Error: Invalid schema file. 'columns' key is missing.\")\n",
    "# Check if the value of 'columns' is a list\n",
    "elif not isinstance(schema['columns'], list):\n",
    "    print(\"Error: Invalid schema file. 'columns' value should be a list.\")\n",
    "else:\n",
    "    # Check if the number of columns in the DataFrame matches the schema\n",
    "    if len(df.columns) != len(schema['columns']):\n",
    "        print(\"Error: Number of columns in the file doesn't match the schema.\")\n",
    "    else:\n",
    "        # Compare each column name in the DataFrame with the corresponding column name in the schema\n",
    "        for i, col in enumerate(df.columns):\n",
    "            if col != schema['columns'][i]:\n",
    "                print(f\"Error: Column {i+1} doesn't match the schema.\")"
   ]
  },
  {
   "cell_type": "code",
   "execution_count": 9,
   "id": "250eeac3",
   "metadata": {},
   "outputs": [],
   "source": [
    "subset_df = df.iloc[:1000]  # selecting the first 1000 rows, since full size is taking too long to compute\n",
    "subset_df.to_csv('output_file.csv.gz', sep='|', compression='gzip', index=False)"
   ]
  },
  {
   "cell_type": "code",
   "execution_count": 10,
   "id": "eb3c244f",
   "metadata": {},
   "outputs": [
    {
     "name": "stdout",
     "output_type": "stream",
     "text": [
      "Total number of rows: 6311871\n",
      "Total number of columns: 61\n",
      "File size: 57771 bytes\n"
     ]
    }
   ],
   "source": [
    "# get the file size\n",
    "file_size = os.path.getsize('output_file.csv.gz')\n",
    "\n",
    "# get the total number of rows and columns\n",
    "num_rows = len(df)\n",
    "num_cols = len(df.columns)\n",
    "\n",
    "# print the summary\n",
    "print(f\"Total number of rows: {num_rows}\")\n",
    "print(f\"Total number of columns: {num_cols}\")\n",
    "print(f\"File size: {file_size} bytes\")"
   ]
  },
  {
   "cell_type": "code",
   "execution_count": null,
   "id": "93df0557",
   "metadata": {},
   "outputs": [],
   "source": []
  }
 ],
 "metadata": {
  "kernelspec": {
   "display_name": "Python 3 (ipykernel)",
   "language": "python",
   "name": "python3"
  },
  "language_info": {
   "codemirror_mode": {
    "name": "ipython",
    "version": 3
   },
   "file_extension": ".py",
   "mimetype": "text/x-python",
   "name": "python",
   "nbconvert_exporter": "python",
   "pygments_lexer": "ipython3",
   "version": "3.11.4"
  }
 },
 "nbformat": 4,
 "nbformat_minor": 5
}
